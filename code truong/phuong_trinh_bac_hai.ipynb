{
 "cells": [
  {
   "cell_type": "code",
   "execution_count": 8,
   "metadata": {},
   "outputs": [],
   "source": [
    "from math import sqrt"
   ]
  },
  {
   "cell_type": "code",
   "execution_count": 9,
   "metadata": {},
   "outputs": [],
   "source": [
    "a = float(input('Nhập a: '))\n",
    "b = float(input('Nhập b: '))\n",
    "c = float(input('Nhập c: '))"
   ]
  },
  {
   "cell_type": "code",
   "execution_count": 10,
   "metadata": {},
   "outputs": [
    {
     "name": "stdout",
     "output_type": "stream",
     "text": [
      "Phương trình có hai nghiệm x1=  1.1483314773547881 \t x2=  -0.34833147735478825\n"
     ]
    }
   ],
   "source": [
    "if a==0 and b==0:\n",
    "    print('Phương trình vô nghiệm')\n",
    "elif a==0 and b!=0:\n",
    "    print('Phương trình có một nghiệm x= ', -c/b)\n",
    "else:\n",
    "    delta = b**2 - 4*a*c\n",
    "    if delta > 0:\n",
    "        x1 = float((-b + sqrt(delta))/(2*a))\n",
    "        x2 = float((-b - sqrt(delta))/(2*a))\n",
    "        print('Phương trình có hai nghiệm x1= ',x1,'\\t', 'x2= ', x2  )\n",
    "    elif delta == 0:\n",
    "        x = (-b / (2*a))\n",
    "        print('Phương trình có nghiệm kép x1=x2= ', x)\n",
    "    else:\n",
    "        print('Phương trình vô nghiệm ')"
   ]
  }
 ],
 "metadata": {
  "kernelspec": {
   "display_name": "Python 3.10.2 64-bit",
   "language": "python",
   "name": "python3"
  },
  "language_info": {
   "codemirror_mode": {
    "name": "ipython",
    "version": 3
   },
   "file_extension": ".py",
   "mimetype": "text/x-python",
   "name": "python",
   "nbconvert_exporter": "python",
   "pygments_lexer": "ipython3",
   "version": "3.10.2"
  },
  "orig_nbformat": 4,
  "vscode": {
   "interpreter": {
    "hash": "f2ccb58c476f33ba3e3aee7ac07234ef6b8217ef24ad64d2a7d4fed1a57c1cd2"
   }
  }
 },
 "nbformat": 4,
 "nbformat_minor": 2
}
