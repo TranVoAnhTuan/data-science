{
 "cells": [
  {
   "cell_type": "code",
   "execution_count": 2,
   "metadata": {},
   "outputs": [],
   "source": [
    "import math as mt"
   ]
  },
  {
   "cell_type": "code",
   "execution_count": 3,
   "metadata": {},
   "outputs": [],
   "source": [
    "def checkPrime(n):\n",
    "    danhDau = [True]*(1000000+1)\n",
    "    for i in range(2,int(mt.sqrt(1000000)+1)):\n",
    "        if danhDau[i] == True:\n",
    "            for j in range(i**2,1000000+1,i):\n",
    "                danhDau[j] = False\n",
    "    return danhDau[n]"
   ]
  },
  {
   "cell_type": "code",
   "execution_count": 4,
   "metadata": {},
   "outputs": [
    {
     "name": "stdout",
     "output_type": "stream",
     "text": [
      "2 \t"
     ]
    }
   ],
   "source": [
    "soNguyen = []\n",
    "n = int(input('số phần tử của list: '))\n",
    "for i in range(n):\n",
    "    soNguyen.append(int(input(f'Nhập phần tử thứ {i}')))\n",
    "for i in range(n):\n",
    "    if soNguyen[i] % 2 == 0:\n",
    "        print(soNguyen[i],'\\t', end='')"
   ]
  },
  {
   "cell_type": "code",
   "execution_count": 5,
   "metadata": {},
   "outputs": [
    {
     "name": "stdout",
     "output_type": "stream",
     "text": [
      "1 1\n"
     ]
    }
   ],
   "source": [
    "x = int(input())\n",
    "viTri = 0\n",
    "soLanXH= 0\n",
    "for i in range(n):\n",
    "    if x == soNguyen[i] :\n",
    "        viTri = i\n",
    "        break\n",
    "print(soNguyen.count(x),viTri)    "
   ]
  },
  {
   "cell_type": "code",
   "execution_count": 6,
   "metadata": {},
   "outputs": [
    {
     "name": "stdout",
     "output_type": "stream",
     "text": [
      "5\n"
     ]
    }
   ],
   "source": [
    "Sum = 0\n",
    "for i in range(len(soNguyen)):\n",
    "    if checkPrime(soNguyen[i]) and soNguyen[i]!=1:\n",
    "        Sum +=soNguyen[i]\n",
    "print(Sum)"
   ]
  },
  {
   "cell_type": "code",
   "execution_count": 8,
   "metadata": {},
   "outputs": [
    {
     "name": "stdout",
     "output_type": "stream",
     "text": [
      "True\n"
     ]
    }
   ],
   "source": [
    "d = soNguyen[1] - soNguyen[0]\n",
    "Count = 0\n",
    "for i in range(2,len(soNguyen)):\n",
    "    if soNguyen[i] - soNguyen[i-1] != d:\n",
    "        Count +=1\n",
    "        break\n",
    "    else:\n",
    "        continue\n",
    "if Count == 0:\n",
    "    print('True')\n",
    "else:\n",
    "    print('False')"
   ]
  }
 ],
 "metadata": {
  "kernelspec": {
   "display_name": "Python 3.10.2 64-bit",
   "language": "python",
   "name": "python3"
  },
  "language_info": {
   "codemirror_mode": {
    "name": "ipython",
    "version": 3
   },
   "file_extension": ".py",
   "mimetype": "text/x-python",
   "name": "python",
   "nbconvert_exporter": "python",
   "pygments_lexer": "ipython3",
   "version": "3.10.2"
  },
  "orig_nbformat": 4,
  "vscode": {
   "interpreter": {
    "hash": "f2ccb58c476f33ba3e3aee7ac07234ef6b8217ef24ad64d2a7d4fed1a57c1cd2"
   }
  }
 },
 "nbformat": 4,
 "nbformat_minor": 2
}
