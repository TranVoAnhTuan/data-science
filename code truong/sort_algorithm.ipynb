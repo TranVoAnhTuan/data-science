{
 "cells": [
  {
   "attachments": {},
   "cell_type": "markdown",
   "metadata": {},
   "source": [
    "# 1"
   ]
  },
  {
   "cell_type": "code",
   "execution_count": 3,
   "metadata": {},
   "outputs": [
    {
     "name": "stdout",
     "output_type": "stream",
     "text": [
      "[0, 1, 1, 1]\n"
     ]
    }
   ],
   "source": [
    "def solve(arr):\n",
    "    j = len(arr) - 1\n",
    "    i = 0\n",
    "    while i<=j:\n",
    "        if arr[i] == 1 and arr[j] == 0:\n",
    "            (arr[i], arr[j]) = (arr[j], arr[i])\n",
    "            i += 1\n",
    "            j -=1\n",
    "        elif arr[i] == 0 and arr[j] == 1:\n",
    "            i += 1\n",
    "            j -= 1\n",
    "        elif arr[i] == 0 and arr[j] == 0:\n",
    "            i += 1\n",
    "        elif arr[i] == 1 and arr[j] == 1:\n",
    "            j -= 1\n",
    "    return arr\n",
    "if __name__== '__main__':\n",
    "    a = [1,1,1,0]\n",
    "    print(solve(a))\n"
   ]
  },
  {
   "attachments": {},
   "cell_type": "markdown",
   "metadata": {},
   "source": [
    "# 2"
   ]
  },
  {
   "cell_type": "code",
   "execution_count": 2,
   "metadata": {},
   "outputs": [
    {
     "name": "stdout",
     "output_type": "stream",
     "text": [
      "['a', 'a', 'b', 'b', 'c', 'd', 'x', 'y']\n"
     ]
    }
   ],
   "source": [
    "import string\n",
    "def solve(arr):\n",
    "    alphabet = {}\n",
    "    res = ''\n",
    "    for char in string.ascii_lowercase:\n",
    "        alphabet[char] = 0\n",
    "    for char in arr:\n",
    "        alphabet[char] += 1\n",
    "    for key,val in alphabet.items(): \n",
    "        res += str(key * val) \n",
    "    res = list(res)      \n",
    "    return res \n",
    "if __name__ == '__main__':\n",
    "    a = ['a','b', 'x', 'y', 'c','d','a','b']\n",
    "    print(solve(a))"
   ]
  },
  {
   "attachments": {},
   "cell_type": "markdown",
   "metadata": {},
   "source": [
    "# 3"
   ]
  },
  {
   "cell_type": "code",
   "execution_count": 19,
   "metadata": {},
   "outputs": [
    {
     "name": "stdout",
     "output_type": "stream",
     "text": [
      "[1, 2, 3, 4, 9]\n"
     ]
    }
   ],
   "source": [
    "def solve(a,b):\n",
    "    res = []\n",
    "    i = 0\n",
    "    j = len(b) - 1\n",
    "    while j >= -1 and i <= len(a):\n",
    "        if i == len(a):\n",
    "            res += b[j::-1]\n",
    "            break\n",
    "        if j == -1:\n",
    "            res += a[i-1:]\n",
    "            break\n",
    "        if a[i] >= b[j]:\n",
    "            res.append(b[j])\n",
    "            j -= 1\n",
    "        else:\n",
    "            res.append(a[i])\n",
    "            i += 1\n",
    "    return res\n",
    "if __name__== '__main__':\n",
    "    a = [2,3]\n",
    "    b = [9,4,1]\n",
    "    print(solve(a,b))\n",
    "    \n"
   ]
  },
  {
   "attachments": {},
   "cell_type": "markdown",
   "metadata": {},
   "source": [
    "# 4"
   ]
  },
  {
   "cell_type": "code",
   "execution_count": 14,
   "metadata": {},
   "outputs": [
    {
     "name": "stdout",
     "output_type": "stream",
     "text": [
      "8\n"
     ]
    }
   ],
   "source": [
    "def heapify(arr, n, i):\n",
    "    largest = i\n",
    "    l = 2 * i + 1\n",
    "    r = 2 * i + 2\n",
    "    if l < n and arr[largest] < arr[l]:\n",
    "        largest = l\n",
    "    if r < n and arr[largest] < arr[r]:\n",
    "        largest = r\n",
    "    if largest != i:\n",
    "        arr[largest], arr[i] = arr[i], arr[largest]\n",
    "        heapify(arr,n,largest)\n",
    "def heap_sort(arr,k):\n",
    "    n = len(arr)\n",
    "    for i in range(n//2-1, -1, -1):\n",
    "        heapify(arr, n, i)   \n",
    "    for i in range(n-1, 0, -1):\n",
    "        arr[0], arr[i] = arr[i], arr[0]\n",
    "        if i+1 == k:\n",
    "            return arr[i]\n",
    "        heapify(arr, i, 0)\n",
    "    if k == 1: \n",
    "        return arr[0]\n",
    "if __name__ == \"__main__\":\n",
    "    arr = [8,7,10,7,3,1,2]\n",
    "    k = int(input('Nhap so nho thu k:'))\n",
    "    print(heap_sort(arr,k))\n",
    "   \n",
    "\n"
   ]
  },
  {
   "cell_type": "code",
   "execution_count": null,
   "metadata": {},
   "outputs": [],
   "source": []
  }
 ],
 "metadata": {
  "kernelspec": {
   "display_name": "Python 3",
   "language": "python",
   "name": "python3"
  },
  "language_info": {
   "codemirror_mode": {
    "name": "ipython",
    "version": 3
   },
   "file_extension": ".py",
   "mimetype": "text/x-python",
   "name": "python",
   "nbconvert_exporter": "python",
   "pygments_lexer": "ipython3",
   "version": "3.10.6"
  },
  "orig_nbformat": 4
 },
 "nbformat": 4,
 "nbformat_minor": 2
}
