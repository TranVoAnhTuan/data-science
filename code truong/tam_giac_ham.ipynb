{
 "cells": [
  {
   "cell_type": "code",
   "execution_count": 29,
   "metadata": {},
   "outputs": [],
   "source": [
    "from math import sqrt"
   ]
  },
  {
   "cell_type": "code",
   "execution_count": 30,
   "metadata": {},
   "outputs": [],
   "source": [
    "def checkTriangle(a, b, c):\n",
    "    if a+b<=c or b+c<=a or a+c<=b:\n",
    "        return False\n",
    "    return True"
   ]
  },
  {
   "cell_type": "code",
   "execution_count": 31,
   "metadata": {},
   "outputs": [],
   "source": [
    "def checkTypeTriangle(a,b,c):\n",
    "    if a == b == c:\n",
    "        return ('tam giác đều')\n",
    "    elif ((a**2 + b**2) == c**2) or ((a**2 + c**2) == b**2) or ((b**2 + c**2) == a**2):\n",
    "        if(a == b) or (b == c) or (c == a):\n",
    "            return ('tam giác vuông cân')\n",
    "        else:\n",
    "            return ('tam giác vuông')\n",
    "    elif (a == b) or (b == c) or (c == a):\n",
    "        return ('tam giác cân')\n",
    "    # elif (a != b) and (a != c) and (b != c):\n",
    "    return ('tam giác thường')"
   ]
  },
  {
   "cell_type": "code",
   "execution_count": 32,
   "metadata": {},
   "outputs": [],
   "source": [
    "def triangleArea(a,b,c):\n",
    "    p = (a+b+c)/2\n",
    "    return sqrt(p*(p-a)*(p-b)*(p-c))\n"
   ]
  },
  {
   "cell_type": "code",
   "execution_count": 33,
   "metadata": {},
   "outputs": [],
   "source": [
    "a = float(input('A'))\n",
    "b = float(input('B'))\n",
    "c = float(input('C'))"
   ]
  },
  {
   "cell_type": "code",
   "execution_count": 34,
   "metadata": {},
   "outputs": [
    {
     "name": "stdout",
     "output_type": "stream",
     "text": [
      "T\n",
      "tam giác thường\n",
      "2.9047375096555625\n"
     ]
    }
   ],
   "source": [
    "if checkTriangle(a,b,c):\n",
    "    # print('T')\n",
    "    print(checkTypeTriangle(a,b,c))\n",
    "    print(triangleArea(a,b,c))\n",
    "else:\n",
    "    print('F')"
   ]
  }
 ],
 "metadata": {
  "kernelspec": {
   "display_name": "Python 3.10.2 64-bit",
   "language": "python",
   "name": "python3"
  },
  "language_info": {
   "codemirror_mode": {
    "name": "ipython",
    "version": 3
   },
   "file_extension": ".py",
   "mimetype": "text/x-python",
   "name": "python",
   "nbconvert_exporter": "python",
   "pygments_lexer": "ipython3",
   "version": "3.10.2"
  },
  "orig_nbformat": 4,
  "vscode": {
   "interpreter": {
    "hash": "f2ccb58c476f33ba3e3aee7ac07234ef6b8217ef24ad64d2a7d4fed1a57c1cd2"
   }
  }
 },
 "nbformat": 4,
 "nbformat_minor": 2
}
