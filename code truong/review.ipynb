{
 "cells": [
  {
   "attachments": {},
   "cell_type": "markdown",
   "metadata": {},
   "source": [
    "# 1"
   ]
  },
  {
   "cell_type": "code",
   "execution_count": 2,
   "metadata": {},
   "outputs": [
    {
     "name": "stdout",
     "output_type": "stream",
     "text": [
      "Tiền điện phải trả là: 1000\n"
     ]
    }
   ],
   "source": [
    "tienDien = int(input('Tiền điện: '))\n",
    "if tienDien <= 100:\n",
    "    tienTra = tienDien * 1000\n",
    "else:\n",
    "    tienTra = (100 * 1000) + ((tienDien - 100) * 1500)\n",
    "print(f'Tiền điện phải trả là: {tienTra}')"
   ]
  },
  {
   "attachments": {},
   "cell_type": "markdown",
   "metadata": {},
   "source": [
    "# 2"
   ]
  },
  {
   "cell_type": "code",
   "execution_count": 3,
   "metadata": {},
   "outputs": [
    {
     "name": "stdout",
     "output_type": "stream",
     "text": [
      "Điểm thi thang 4: 1 ; Điểm chữ: F\n"
     ]
    }
   ],
   "source": [
    "score = float(input('Nhập điểm thi: '))\n",
    "if 10 >= score >= 0:\n",
    "    if 10 >= score >= 9:\n",
    "        score4 = 4.0\n",
    "        alphaScore = 'A+'\n",
    "    elif score >= 8:\n",
    "        score4 = 3.5\n",
    "        alphaScore = 'A'\n",
    "    elif score >= 7:\n",
    "        score4 = 3\n",
    "        alphaScore = 'B'\n",
    "    elif score >= 6:\n",
    "        score4 = 2\n",
    "        alphaScore = 'C'\n",
    "    elif score >= 4:\n",
    "        score4 = 1.5\n",
    "        alphaScore = 'D'\n",
    "    else:\n",
    "        score4 = 1\n",
    "        alphaScore = 'F'\n",
    "else:\n",
    "    pass\n",
    "print(f'Điểm thi thang 4: {score4} ; Điểm chữ: {alphaScore}')"
   ]
  },
  {
   "attachments": {},
   "cell_type": "markdown",
   "metadata": {},
   "source": [
    "# 3"
   ]
  },
  {
   "cell_type": "code",
   "execution_count": 4,
   "metadata": {},
   "outputs": [
    {
     "data": {
      "text/plain": [
       "[1,\n",
       " 4,\n",
       " 9,\n",
       " 16,\n",
       " 25,\n",
       " 36,\n",
       " 49,\n",
       " 64,\n",
       " 81,\n",
       " 100,\n",
       " 121,\n",
       " 144,\n",
       " 169,\n",
       " 196,\n",
       " 225,\n",
       " 256,\n",
       " 289,\n",
       " 324,\n",
       " 361,\n",
       " 400]"
      ]
     },
     "execution_count": 4,
     "metadata": {},
     "output_type": "execute_result"
    }
   ],
   "source": [
    "def binhphuong():\n",
    "    a = []\n",
    "    for i in range(1,21):\n",
    "        a.append(i**2)\n",
    "    return a\n",
    "binhphuong()"
   ]
  },
  {
   "attachments": {},
   "cell_type": "markdown",
   "metadata": {},
   "source": [
    "# 4"
   ]
  },
  {
   "cell_type": "code",
   "execution_count": 5,
   "metadata": {},
   "outputs": [
    {
     "ename": "ZeroDivisionError",
     "evalue": "division by zero",
     "output_type": "error",
     "traceback": [
      "\u001b[1;31m---------------------------------------------------------------------------\u001b[0m",
      "\u001b[1;31mZeroDivisionError\u001b[0m                         Traceback (most recent call last)",
      "\u001b[1;32mc:\\Users\\LENOVO\\OneDrive\\python\\code truong\\review.ipynb Cell 8\u001b[0m in \u001b[0;36m<cell line: 8>\u001b[1;34m()\u001b[0m\n\u001b[0;32m      <a href='vscode-notebook-cell:/c%3A/Users/LENOVO/OneDrive/python/code%20truong/review.ipynb#X10sZmlsZQ%3D%3D?line=5'>6</a>\u001b[0m     tong \u001b[39m+\u001b[39m\u001b[39m=\u001b[39m i\n\u001b[0;32m      <a href='vscode-notebook-cell:/c%3A/Users/LENOVO/OneDrive/python/code%20truong/review.ipynb#X10sZmlsZQ%3D%3D?line=6'>7</a>\u001b[0m     dem \u001b[39m+\u001b[39m\u001b[39m=\u001b[39m \u001b[39m1\u001b[39m\n\u001b[1;32m----> <a href='vscode-notebook-cell:/c%3A/Users/LENOVO/OneDrive/python/code%20truong/review.ipynb#X10sZmlsZQ%3D%3D?line=7'>8</a>\u001b[0m \u001b[39mprint\u001b[39m(tong\u001b[39m/\u001b[39;49mdem)\n",
      "\u001b[1;31mZeroDivisionError\u001b[0m: division by zero"
     ]
    }
   ],
   "source": [
    "n = int(input())\n",
    "tong = 0\n",
    "dem = 0\n",
    "for i in range(3,n,3):\n",
    "    print(i)\n",
    "    tong += i\n",
    "    dem += 1\n",
    "print(tong/dem)"
   ]
  },
  {
   "attachments": {},
   "cell_type": "markdown",
   "metadata": {},
   "source": [
    "# 5"
   ]
  },
  {
   "cell_type": "code",
   "execution_count": null,
   "metadata": {},
   "outputs": [
    {
     "name": "stdout",
     "output_type": "stream",
     "text": [
      "          Hovaten Gioitinh  Chuyencan  Giuaky  Cuoiky\n",
      "0     Hồ Lê Quyên       nữ          9       8       6\n",
      "1   Nguyễn Hải Hồ      nam          7       6       8\n",
      "2  Hoa Thanh Tùng       nữ          8       5       9\n",
      "3        Mai Việt      nam          6       6       7\n"
     ]
    },
    {
     "data": {
      "text/plain": [
       "<AxesSubplot:title={'center':'Cuoiky'}, xlabel='Gioitinh'>"
      ]
     },
     "execution_count": 23,
     "metadata": {},
     "output_type": "execute_result"
    },
    {
     "data": {
      "image/png": "[encoded data removed]",
      "text/plain": [
       "<Figure size 432x288 with 1 Axes>"
      ]
     },
     "metadata": {
      "needs_background": "light"
     },
     "output_type": "display_data"
    }
   ],
   "source": [
    "import pandas as pd\n",
    "import matplotlib.pyplot as plt\n",
    "hoTen = ['Hồ Lê Quyên', 'Nguyễn Hải Hồ', 'Hoa Thanh Tùng', 'Mai Việt']\n",
    "gioiTinh = ['nữ', 'nam', 'nữ', 'nam']\n",
    "chuyenCan = [9, 7, 8, 6]\n",
    "giuaKy = [8, 6, 5, 6]\n",
    "cuoiKy = [6, 8, 9, 7]\n",
    "data = {'Hovaten':hoTen, 'Gioitinh':gioiTinh, 'Chuyencan':chuyenCan, 'Giuaky':giuaKy, 'Cuoiky':cuoiKy}\n",
    "df = pd.DataFrame(data)\n",
    "df.to_csv('Diem.csv', index= False)\n",
    "diem = pd.read_csv('Diem.csv')\n",
    "print(diem)\n",
    "diem2 = diem.sort_values(by= 'Cuoiky', ascending= True)\n",
    "diem2 = diem2.reset_index(drop= True)\n",
    "diem2.to_csv('diem2.csv', index= False)\n",
    "diem2\n",
    "diem.boxplot(column= 'Cuoiky', by= 'Gioitinh', patch_artist= True)\n"
   ]
  },
  {
   "attachments": {},
   "cell_type": "markdown",
   "metadata": {},
   "source": []
  },
  {
   "attachments": {},
   "cell_type": "markdown",
   "metadata": {},
   "source": [
    "# 6"
   ]
  },
  {
   "cell_type": "code",
   "execution_count": 2,
   "metadata": {},
   "outputs": [
    {
     "data": {
      "text/html": [
       "<div>\n",
       "<style scoped>\n",
       "    .dataframe tbody tr th:only-of-type {\n",
       "        vertical-align: middle;\n",
       "    }\n",
       "\n",
       "    .dataframe tbody tr th {\n",
       "        vertical-align: top;\n",
       "    }\n",
       "\n",
       "    .dataframe thead th {\n",
       "        text-align: right;\n",
       "    }\n",
       "</style>\n",
       "<table border=\"1\" class=\"dataframe\">\n",
       "  <thead>\n",
       "    <tr style=\"text-align: right;\">\n",
       "      <th></th>\n",
       "      <th>MaNV</th>\n",
       "      <th>Ho</th>\n",
       "      <th>Ten</th>\n",
       "      <th>Ngaysinh</th>\n",
       "      <th>Doanhso</th>\n",
       "      <th>Gioitinh</th>\n",
       "    </tr>\n",
       "  </thead>\n",
       "  <tbody>\n",
       "    <tr>\n",
       "      <th>0</th>\n",
       "      <td>3</td>\n",
       "      <td>Võ Phương Linh</td>\n",
       "      <td>Phương</td>\n",
       "      <td>1/7/2000</td>\n",
       "      <td>1200</td>\n",
       "      <td>0</td>\n",
       "    </tr>\n",
       "    <tr>\n",
       "      <th>4</th>\n",
       "      <td>9</td>\n",
       "      <td>Nguyễn Như</td>\n",
       "      <td>Quỳnh</td>\n",
       "      <td>5/6/2000</td>\n",
       "      <td>700</td>\n",
       "      <td>0</td>\n",
       "    </tr>\n",
       "  </tbody>\n",
       "</table>\n",
       "</div>"
      ],
      "text/plain": [
       "   MaNV              Ho     Ten  Ngaysinh  Doanhso  Gioitinh\n",
       "0     3  Võ Phương Linh  Phương  1/7/2000     1200         0\n",
       "4     9      Nguyễn Như   Quỳnh  5/6/2000      700         0"
      ]
     },
     "execution_count": 2,
     "metadata": {},
     "output_type": "execute_result"
    }
   ],
   "source": [
    "import pandas as pd\n",
    "import matplotlib.pyplot as plt\n",
    "maNV = [3, 5, 1, 6, 9]\n",
    "ho = ['Võ Phương Linh', 'Nguyễn Đặng Khánh', 'Nguyễn Thị Na', 'Lê Thị Thanh', 'Nguyễn Như']\n",
    "ten = ['Phương', 'Mai', 'Nu', 'Quý', 'Quỳnh']\n",
    "ngaySinh = ['1/7/2000', '3/8/2000', '5/2/2001', '6/3/2003', '5/6/2000']\n",
    "doanhSo = [1200, 1000, 2500, 1800, 700]\n",
    "\n",
    "dsNV = {'MaNV': maNV, 'Ho': ho, 'Ten': ten, 'Ngaysinh': ngaySinh, 'Doanhso': doanhSo}\n",
    "DSNV = pd.DataFrame(dsNV)\n",
    "Gioitinh = [0,1,0,0,0]\n",
    "DSNV['Gioitinh'] = Gioitinh\n",
    "\n",
    "\n",
    "def Split(x):\n",
    "\n",
    "    test = x.split('/')\n",
    "    return int(test[2])\n",
    "\n",
    "DSNV.loc[(DSNV['Ngaysinh'].apply(Split) <= 2000) & (DSNV['Gioitinh'] == 0)]\n",
    "\n"
   ]
  },
  {
   "cell_type": "markdown",
   "metadata": {},
   "source": []
  }
 ],
 "metadata": {
  "kernelspec": {
   "display_name": "Python 3",
   "language": "python",
   "name": "python3"
  },
  "language_info": {
   "codemirror_mode": {
    "name": "ipython",
    "version": 3
   },
   "file_extension": ".py",
   "mimetype": "text/x-python",
   "name": "python",
   "nbconvert_exporter": "python",
   "pygments_lexer": "ipython3",
   "version": "3.10.2"
  },
  "orig_nbformat": 4,
  "vscode": {
   "interpreter": {
    "hash": "f2ccb58c476f33ba3e3aee7ac07234ef6b8217ef24ad64d2a7d4fed1a57c1cd2"
   }
  }
 },
 "nbformat": 4,
 "nbformat_minor": 2
}
