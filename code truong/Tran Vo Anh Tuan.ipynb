{
 "cells": [
  {
   "cell_type": "code",
   "execution_count": 4,
   "metadata": {},
   "outputs": [
    {
     "name": "stdout",
     "output_type": "stream",
     "text": [
      "List toan so nguyen to\n"
     ]
    }
   ],
   "source": [
    "#câu 1\n",
    "from math import sqrt\n",
    "def checkPrime(a):\n",
    "    Prime = [True]*1001\n",
    "    for i in range(2,int(sqrt(1000))):\n",
    "        for j in range(i**2,1000,i):\n",
    "            if Prime[j] == True:\n",
    "                Prime[j] = False\n",
    "    return Prime[a]\n",
    "a = []\n",
    "n = int(input('nhap n'))\n",
    "b = []\n",
    "for i in range(n):\n",
    "    a.append(int(input()))\n",
    "Count = 0\n",
    "for i in range(n):\n",
    "    if checkPrime(a[i]) == True:\n",
    "        Count += 1        \n",
    "if Count == n:\n",
    "    print('List toan so nguyen to')\n",
    "else:\n",
    "    for i in range(n):\n",
    "        x = int(sqrt(a[i]))\n",
    "        if x**2 == a[i]:\n",
    "            b.append(a[i]) \n",
    "    tong = 0\n",
    "    for i in range(len(b)):\n",
    "        tong +=b[i]\n",
    "    print(tong/len(b))\n",
    "    print('List khong phai')\n",
    "\n",
    "     \n",
    "    \n",
    "    \n"
   ]
  },
  {
   "cell_type": "code",
   "execution_count": 5,
   "metadata": {},
   "outputs": [
    {
     "name": "stdout",
     "output_type": "stream",
     "text": [
      "        Tên Giới tính  Tháng 3  Tháng 4\n",
      "1  Văn Hoàn       Nam    20400    19500\n",
      "3  Văn Toàn       Nam    22700    26000\n"
     ]
    }
   ],
   "source": [
    "# cau 2\n",
    "import pandas as pd\n",
    "ten = ['Quang Lê','Văn Hoàn', 'Lệ Thủy', 'Văn Toàn', 'Định Bình', 'Hồng Hoa']\n",
    "gioiTinh = ['Nam','Nam', 'Nữ', 'Nam', 'Nam', 'Nữ']\n",
    "thang3 = [10500,20400,21300,22700,18200,24000]\n",
    "thang4 = [14600,19500,22900,26000,14500,21600]\n",
    "DT = {'Tên':ten, 'Giới tính': gioiTinh, 'Tháng 3': thang3, 'Tháng 4': thang4}\n",
    "doanhThu = pd.DataFrame(DT)\n",
    "doanhThu.to_csv('Doanhthu.csv', index = False)\n",
    "print(doanhThu.loc[(doanhThu['Giới tính']=='Nam')&(doanhThu['Tháng 3']>20000)])\n"
   ]
  },
  {
   "cell_type": "code",
   "execution_count": 6,
   "metadata": {},
   "outputs": [
    {
     "data": {
      "text/html": [
       "<div>\n",
       "<style scoped>\n",
       "    .dataframe tbody tr th:only-of-type {\n",
       "        vertical-align: middle;\n",
       "    }\n",
       "\n",
       "    .dataframe tbody tr th {\n",
       "        vertical-align: top;\n",
       "    }\n",
       "\n",
       "    .dataframe thead th {\n",
       "        text-align: right;\n",
       "    }\n",
       "</style>\n",
       "<table border=\"1\" class=\"dataframe\">\n",
       "  <thead>\n",
       "    <tr style=\"text-align: right;\">\n",
       "      <th></th>\n",
       "      <th>Tháng 4</th>\n",
       "    </tr>\n",
       "    <tr>\n",
       "      <th>Giới tính</th>\n",
       "      <th></th>\n",
       "    </tr>\n",
       "  </thead>\n",
       "  <tbody>\n",
       "    <tr>\n",
       "      <th>Nam</th>\n",
       "      <td>14500</td>\n",
       "    </tr>\n",
       "    <tr>\n",
       "      <th>Nữ</th>\n",
       "      <td>21600</td>\n",
       "    </tr>\n",
       "  </tbody>\n",
       "</table>\n",
       "</div>"
      ],
      "text/plain": [
       "           Tháng 4\n",
       "Giới tính         \n",
       "Nam          14500\n",
       "Nữ           21600"
      ]
     },
     "execution_count": 6,
     "metadata": {},
     "output_type": "execute_result"
    }
   ],
   "source": [
    "pd.pivot_table(doanhThu, index = 'Giới tính',values= 'Tháng 4', aggfunc= 'min')"
   ]
  },
  {
   "cell_type": "code",
   "execution_count": 7,
   "metadata": {},
   "outputs": [
    {
     "name": "stderr",
     "output_type": "stream",
     "text": [
      "No artists with labels found to put in legend.  Note that artists whose label start with an underscore are ignored when legend() is called with no argument.\n"
     ]
    },
    {
     "data": {
      "image/png": "[encoded data removed]",
      "text/plain": [
       "<Figure size 432x288 with 1 Axes>"
      ]
     },
     "metadata": {
      "needs_background": "light"
     },
     "output_type": "display_data"
    }
   ],
   "source": [
    "# cau 3\n",
    "import pandas as pd\n",
    "import matplotlib.pyplot as plt\n",
    "df = pd.read_csv('Doanhthu.csv')\n",
    "plt.bar(df['Tên'], df['Tháng 4'], color='red')\n",
    "plt.xlabel('Họ tên')\n",
    "plt.ylabel('Doanh thu')\n",
    "plt.title('Biểu đồ doanh thu của nhân viên trong tháng 4/2022')\n",
    "plt.legend()\n",
    "plt.show()"
   ]
  },
  {
   "cell_type": "code",
   "execution_count": null,
   "metadata": {},
   "outputs": [],
   "source": []
  }
 ],
 "metadata": {
  "kernelspec": {
   "display_name": "Python 3",
   "language": "python",
   "name": "python3"
  },
  "language_info": {
   "codemirror_mode": {
    "name": "ipython",
    "version": 3
   },
   "file_extension": ".py",
   "mimetype": "text/x-python",
   "name": "python",
   "nbconvert_exporter": "python",
   "pygments_lexer": "ipython3",
   "version": "3.10.2"
  },
  "vscode": {
   "interpreter": {
    "hash": "f2ccb58c476f33ba3e3aee7ac07234ef6b8217ef24ad64d2a7d4fed1a57c1cd2"
   }
  }
 },
 "nbformat": 4,
 "nbformat_minor": 2
}
