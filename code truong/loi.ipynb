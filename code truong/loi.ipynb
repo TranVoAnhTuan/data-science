{
 "cells": [
  {
   "cell_type": "code",
   "execution_count": 18,
   "metadata": {},
   "outputs": [
    {
     "name": "stdout",
     "output_type": "stream",
     "text": [
      "nhập thông tin sinh viên thứ 1\n",
      "nhập thông tin sinh viên thứ 2\n",
      "nhập thông tin sinh viên thứ 3\n",
      "{1: 'nghia', 2: 'tuan', 3: 'loi'}\n"
     ]
    }
   ],
   "source": [
    "Ds={}\n",
    "n=int(input(\"so Sv\"))\n",
    "for i in range(1,n+1):\n",
    "    print(\"nhập thông tin sinh viên thứ\",str(i))\n",
    "    MSSV=int(input(\"nhập mã số sinh viên\"))\n",
    "    ten=input(\"nhập tên sinh viên\")\n",
    "    Ds[MSSV]=ten\n",
    "x=int(input(\"chọn chức năng\"))\n",
    "if x==1:\n",
    "    mssv=int(input(\"nhập mã số sinh viên\"))\n",
    "    Ten=input(\"nhập tên sinh viên\")\n",
    "    Ds[mssv]=Ten\n",
    "    print(Ds) \n",
    "elif x==2:\n",
    "    n=int(input(\"nhập mã số sinh viên\"))\n",
    "    del Ds[n]\n",
    "    print(Ds)\n",
    "elif x==3:\n",
    "    n=int(input(\"nhập mã số sinh viên\"))\n",
    "    print(Ds[n])\n",
    "elif x==4:\n",
    "    print(Ds)"
   ]
  },
  {
   "cell_type": "code",
   "execution_count": null,
   "metadata": {},
   "outputs": [],
   "source": []
  },
  {
   "cell_type": "code",
   "execution_count": null,
   "metadata": {},
   "outputs": [],
   "source": []
  }
 ],
 "metadata": {
  "kernelspec": {
   "display_name": "Python 3.10.2 64-bit",
   "language": "python",
   "name": "python3"
  },
  "language_info": {
   "codemirror_mode": {
    "name": "ipython",
    "version": 3
   },
   "file_extension": ".py",
   "mimetype": "text/x-python",
   "name": "python",
   "nbconvert_exporter": "python",
   "pygments_lexer": "ipython3",
   "version": "3.10.2"
  },
  "orig_nbformat": 4,
  "vscode": {
   "interpreter": {
    "hash": "f2ccb58c476f33ba3e3aee7ac07234ef6b8217ef24ad64d2a7d4fed1a57c1cd2"
   }
  }
 },
 "nbformat": 4,
 "nbformat_minor": 2
}
