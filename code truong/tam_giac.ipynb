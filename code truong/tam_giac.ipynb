{
 "cells": [
  {
   "cell_type": "code",
   "execution_count": 1,
   "metadata": {},
   "outputs": [],
   "source": [
    "a = float(input('Nhập cạnh a: '))\n",
    "b = float(input('Nhập cạnh b: '))\n",
    "c = float(input('Nhập cạnh c: '))"
   ]
  },
  {
   "cell_type": "code",
   "execution_count": 2,
   "metadata": {},
   "outputs": [
    {
     "name": "stdout",
     "output_type": "stream",
     "text": [
      "đây là tam giác vuông\n"
     ]
    }
   ],
   "source": [
    "if a+b<c or b+c<a or a+c<b:\n",
    "    print('Đây không phải là một tam giác')\n",
    "else:\n",
    "    if a == b == c:\n",
    "        print('đây là tam giác đều')\n",
    "    elif ((a**2 + b**2) == c**2) or ((a**2 + c**2) == b**2) or ((b**2 + c**2) == a**2):\n",
    "        if(a == b) or (b == c) or (c == a):\n",
    "            print('đây là tam giác vuông cân')\n",
    "        else:\n",
    "            print('đây là tam giác vuông')\n",
    "    elif (a == b) or (b == c) or (c == a):\n",
    "        print('Đây là tam giác cân')\n",
    "    elif (a != b) and (a != c) and (b != c):\n",
    "        print('Đây là tam giác thường') \n"
   ]
  },
  {
   "cell_type": "code",
   "execution_count": 6,
   "metadata": {},
   "outputs": [
    {
     "name": "stdout",
     "output_type": "stream",
     "text": [
      "36.86989764584401 \t 90.0 \t 53.13010235415599\n"
     ]
    }
   ],
   "source": [
    "import math as mt\n",
    "cosA = (a**2 - b**2 - c**2) / (-2 * b * c)\n",
    "A = mt.degrees(mt.acos(cosA))\n",
    "cosB = (b**2 - a**2 - c**2) / (-2 * a * c)\n",
    "B = mt.degrees(mt.acos(cosB))\n",
    "cosC = (c**2 - a**2 - b**2) / (-2 * a * b)\n",
    "C = mt.degrees(mt.acos(cosC))\n",
    "print( A, '\\t', B, '\\t', C)"
   ]
  }
 ],
 "metadata": {
  "kernelspec": {
   "display_name": "Python 3.10.2 64-bit",
   "language": "python",
   "name": "python3"
  },
  "language_info": {
   "codemirror_mode": {
    "name": "ipython",
    "version": 3
   },
   "file_extension": ".py",
   "mimetype": "text/x-python",
   "name": "python",
   "nbconvert_exporter": "python",
   "pygments_lexer": "ipython3",
   "version": "3.10.2"
  },
  "orig_nbformat": 4,
  "vscode": {
   "interpreter": {
    "hash": "f2ccb58c476f33ba3e3aee7ac07234ef6b8217ef24ad64d2a7d4fed1a57c1cd2"
   }
  }
 },
 "nbformat": 4,
 "nbformat_minor": 2
}
