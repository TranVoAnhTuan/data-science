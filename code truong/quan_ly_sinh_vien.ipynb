{
 "cells": [
  {
   "cell_type": "code",
   "execution_count": 3,
   "metadata": {},
   "outputs": [],
   "source": [
    "dsSinhVien = {}\n",
    "while True:\n",
    "    maSV = input('Nhập mã sinh viên: ')\n",
    "    tenSV = input('Nhập tên sinh viên: ')\n",
    "    if  maSV == '*':\n",
    "        break\n",
    "    else:\n",
    "        dsSinhVien[maSV] = tenSV\n",
    "    "
   ]
  },
  {
   "cell_type": "code",
   "execution_count": 4,
   "metadata": {},
   "outputs": [
    {
     "name": "stdout",
     "output_type": "stream",
     "text": [
      "{'123': 'kiet', '234': 'nghia', '345': 'tuan'}\n"
     ]
    }
   ],
   "source": [
    "x = int(input('chon chuc nang '))\n",
    "if x == 1:\n",
    "    n = input('nhập mã sinh viên: ')\n",
    "    m = input('nhập tên sinh viên: ')\n",
    "    dsSinhVien[n] = m\n",
    "elif x == 2:\n",
    "    n = input()\n",
    "    del dsSinhVien[n]\n",
    "elif x == 3:\n",
    "    Find = input()\n",
    "    print(dsSinhVien[Find])\n",
    "elif x == 4:\n",
    "    print(dsSinhVien)"
   ]
  },
  {
   "cell_type": "markdown",
   "metadata": {},
   "source": []
  }
 ],
 "metadata": {
  "kernelspec": {
   "display_name": "Python 3.10.2 64-bit",
   "language": "python",
   "name": "python3"
  },
  "language_info": {
   "codemirror_mode": {
    "name": "ipython",
    "version": 3
   },
   "file_extension": ".py",
   "mimetype": "text/x-python",
   "name": "python",
   "nbconvert_exporter": "python",
   "pygments_lexer": "ipython3",
   "version": "3.10.2"
  },
  "orig_nbformat": 4,
  "vscode": {
   "interpreter": {
    "hash": "f2ccb58c476f33ba3e3aee7ac07234ef6b8217ef24ad64d2a7d4fed1a57c1cd2"
   }
  }
 },
 "nbformat": 4,
 "nbformat_minor": 2
}
