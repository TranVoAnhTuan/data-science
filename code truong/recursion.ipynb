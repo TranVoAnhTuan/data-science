{
 "cells": [
  {
   "attachments": {},
   "cell_type": "markdown",
   "metadata": {},
   "source": [
    "# 1"
   ]
  },
  {
   "cell_type": "code",
   "execution_count": 1,
   "metadata": {},
   "outputs": [
    {
     "name": "stdout",
     "output_type": "stream",
     "text": [
      "5\n"
     ]
    }
   ],
   "source": [
    "def nCk(n,k):\n",
    "    if k == 0 or n == k:\n",
    "        return 1\n",
    "    else:\n",
    "        return nCk(n-1,k-1) + nCk(n-1,k)\n",
    "if __name__ == '__main__':\n",
    "    n = int(input())\n",
    "    k = int(input())\n",
    "    print(nCk(n,k))"
   ]
  },
  {
   "attachments": {},
   "cell_type": "markdown",
   "metadata": {},
   "source": [
    "# 2"
   ]
  },
  {
   "cell_type": "code",
   "execution_count": 3,
   "metadata": {},
   "outputs": [
    {
     "name": "stdout",
     "output_type": "stream",
     "text": [
      "3\n"
     ]
    }
   ],
   "source": [
    "def CountNum(n):\n",
    "    if n < 10:\n",
    "        return 1\n",
    "    else:\n",
    "        return 1 + CountNum(n//10)\n",
    "if __name__ == '__main__':\n",
    "    n = int(input())\n",
    "    print(CountNum(n))"
   ]
  },
  {
   "attachments": {},
   "cell_type": "markdown",
   "metadata": {},
   "source": [
    "# 3"
   ]
  },
  {
   "cell_type": "code",
   "execution_count": 4,
   "metadata": {},
   "outputs": [
    {
     "name": "stdout",
     "output_type": "stream",
     "text": [
      "True\n"
     ]
    }
   ],
   "source": [
    "def symmetric(arr, start, end):\n",
    "    if start >= end:\n",
    "        return True\n",
    "    if arr[start] != arr[end]:\n",
    "        return False\n",
    "    return symmetric(arr, start+1, end-1)\n",
    "if __name__ == '__main__':\n",
    "    n = int(input())\n",
    "    a = []\n",
    "    for i in range(0,n):\n",
    "        a.append(int(input(f'{i}:   ')))\n",
    "    if symmetric(a,0,n-1):\n",
    "        print(True)\n",
    "    else:\n",
    "        print(False)"
   ]
  },
  {
   "attachments": {},
   "cell_type": "markdown",
   "metadata": {},
   "source": [
    "# 4"
   ]
  },
  {
   "cell_type": "code",
   "execution_count": 3,
   "metadata": {},
   "outputs": [
    {
     "name": "stdout",
     "output_type": "stream",
     "text": [
      "-1\n"
     ]
    }
   ],
   "source": [
    "def Max(arr, n):\n",
    "    if n == -1:\n",
    "        return a[0]\n",
    "    if arr[n] > arr[n-1]:\n",
    "        arr[n-1] = arr[n]\n",
    "        # print(MaxNum)\n",
    "    return Max(arr, n-1)\n",
    "if __name__ == '__main__':\n",
    "    n = int(input())\n",
    "    a = []\n",
    "    for i in range(0,n):\n",
    "        a.append(int(input(f'{i}:   ')))\n",
    "    print(Max(a, n-1))"
   ]
  },
  {
   "attachments": {},
   "cell_type": "markdown",
   "metadata": {},
   "source": [
    "# 5"
   ]
  },
  {
   "cell_type": "code",
   "execution_count": 14,
   "metadata": {},
   "outputs": [
    {
     "name": "stdout",
     "output_type": "stream",
     "text": [
      "720\n"
     ]
    }
   ],
   "source": [
    "def factorial(n):\n",
    "    if n == 0 or n == 1:\n",
    "        return 1\n",
    "    else:\n",
    "        return n * factorial(n-2)\n",
    "if __name__ == '__main__':\n",
    "    n = int(input(\"Enter the value of n: \"))\n",
    "    print(factorial(factorial(n)))"
   ]
  },
  {
   "attachments": {},
   "cell_type": "markdown",
   "metadata": {},
   "source": [
    "# 6"
   ]
  },
  {
   "cell_type": "code",
   "execution_count": 1,
   "metadata": {},
   "outputs": [
    {
     "name": "stdout",
     "output_type": "stream",
     "text": [
      "False\n"
     ]
    }
   ],
   "source": [
    "def checkPrime(n, i=2):\n",
    "    if n <= 2:\n",
    "      return n == 2\n",
    "    if n % i == 0:\n",
    "      return False\n",
    "    if i * i > n:\n",
    "      return True\n",
    "    return checkPrime(n, i + 1)\n",
    "if __name__ == '__main__':\n",
    "    print(checkPrime(1))  \n"
   ]
  },
  {
   "attachments": {},
   "cell_type": "markdown",
   "metadata": {},
   "source": [
    "# 7"
   ]
  },
  {
   "cell_type": "code",
   "execution_count": 18,
   "metadata": {},
   "outputs": [
    {
     "name": "stdout",
     "output_type": "stream",
     "text": [
      "True\n"
     ]
    }
   ],
   "source": [
    "def subString(s1, s2):\n",
    "    if len(s1) == 0:\n",
    "        return True\n",
    "    if len(s2) == 0:\n",
    "        return False\n",
    "    if s1[0] == s2[0]:\n",
    "        return subString(s1[1:],s2[1:])\n",
    "    return subString(s1, s2[1:])\n",
    "if __name__ == '__main__':\n",
    "    a = str(input('str a:   '))\n",
    "    b = str(input('str b:   '))\n",
    "    print(subString(a,b))"
   ]
  },
  {
   "attachments": {},
   "cell_type": "markdown",
   "metadata": {},
   "source": [
    "# 8"
   ]
  },
  {
   "cell_type": "code",
   "execution_count": 26,
   "metadata": {},
   "outputs": [
    {
     "name": "stdout",
     "output_type": "stream",
     "text": [
      "False\n"
     ]
    }
   ],
   "source": [
    "def checkAcending(arr, n, i=1):\n",
    "    if i == n:\n",
    "        return True\n",
    "    if arr[i] < arr[i-1]:\n",
    "        return False\n",
    "    else:\n",
    "        return checkAcending(arr, n, i+1)\n",
    "if __name__ == '__main__':\n",
    "    a = []\n",
    "    n = int(input())\n",
    "    for i in range(0,n):\n",
    "        a.append(int(input(f'{i}:   ')))\n",
    "    print(checkAcending(a, n-1))\n"
   ]
  },
  {
   "attachments": {},
   "cell_type": "markdown",
   "metadata": {},
   "source": [
    "# 9"
   ]
  },
  {
   "cell_type": "code",
   "execution_count": 14,
   "metadata": {},
   "outputs": [
    {
     "data": {
      "text/plain": [
       "[[5], [0, 2, 3], [2, 3]]"
      ]
     },
     "execution_count": 14,
     "metadata": {},
     "output_type": "execute_result"
    }
   ],
   "source": [
    "def find_subset_with_sum(arr, target_sum, i=0, current_sum=0, current_subset=[]):\n",
    "    if current_sum == target_sum:\n",
    "        return [current_subset]\n",
    "    if i >= len(arr) or current_sum > target_sum:\n",
    "        return []\n",
    "    return find_subset_with_sum(arr, target_sum, i+1, current_sum+arr[i], current_subset+[arr[i]])\\\n",
    "        +   find_subset_with_sum(arr, target_sum, i+1, current_sum, current_subset)\n",
    "n, s = map(int,input('Nhap so phan tu cua mang n:, nhap tong can tim').split())\n",
    "a = []\n",
    "for i in range(n):\n",
    "    a.append(int(input(f'nhap a{i}: ')))\n",
    "find_subset_with_sum(a,s)"
   ]
  },
  {
   "attachments": {},
   "cell_type": "markdown",
   "metadata": {},
   "source": [
    "# 10"
   ]
  },
  {
   "cell_type": "code",
   "execution_count": 10,
   "metadata": {},
   "outputs": [
    {
     "name": "stdout",
     "output_type": "stream",
     "text": [
      "5 phan thuong, 3 sinh vien se co 5 cach chia\n"
     ]
    }
   ],
   "source": [
    "def part(m, n):\n",
    "    if m == 0:\n",
    "        return 1\n",
    "    elif n == 0:\n",
    "        return 0\n",
    "    elif m == 1 or n == 1:\n",
    "        return 1\n",
    "    elif m < n:\n",
    "        return part(m, m)\n",
    "    else:\n",
    "        return part(m, n-1) + part(m-n, n)\n",
    "\n",
    "m, n = map(int, input(\"Nhap m (phan thuong), n (sinh vien): \").split())\n",
    "print(f\"{m} phan thuong, {n} sinh vien se co {part(m, n)} cach chia\")\n"
   ]
  },
  {
   "cell_type": "markdown",
   "metadata": {},
   "source": []
  },
  {
   "cell_type": "markdown",
   "metadata": {},
   "source": []
  }
 ],
 "metadata": {
  "kernelspec": {
   "display_name": "Python 3",
   "language": "python",
   "name": "python3"
  },
  "language_info": {
   "codemirror_mode": {
    "name": "ipython",
    "version": 3
   },
   "file_extension": ".py",
   "mimetype": "text/x-python",
   "name": "python",
   "nbconvert_exporter": "python",
   "pygments_lexer": "ipython3",
   "version": "3.10.6"
  },
  "orig_nbformat": 4,
  "vscode": {
   "interpreter": {
    "hash": "916dbcbb3f70747c44a77c7bcd40155683ae19c65e1c03b4aa3499c5328201f1"
   }
  }
 },
 "nbformat": 4,
 "nbformat_minor": 2
}
