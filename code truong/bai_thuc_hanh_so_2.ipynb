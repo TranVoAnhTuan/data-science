{
 "cells": [
  {
   "cell_type": "code",
   "execution_count": null,
   "metadata": {},
   "outputs": [],
   "source": [
    "n = int(input('Nhập số n:'))"
   ]
  },
  {
   "cell_type": "code",
   "execution_count": null,
   "metadata": {},
   "outputs": [],
   "source": [
    "if n>0:\n",
    "    print('n là số dương')\n",
    "elif n<0:\n",
    "    print('n là số âm')\n",
    "else:\n",
    "    print('n là số không')"
   ]
  },
  {
   "cell_type": "code",
   "execution_count": null,
   "metadata": {},
   "outputs": [],
   "source": [
    "a = float(input('Nhập số a: '))\n",
    "b = float(input('Nhập số b: '))\n",
    "\n",
    "if a == 0 and b == 0:\n",
    "    print('Phương trình vô số nghiệm')\n",
    "elif a==0 and b!=0:\n",
    "    print('Phương trình vô nghiệm')\n",
    "else:\n",
    "    print('Nghiệm của phương trình là: ', -b/a)"
   ]
  },
  {
   "cell_type": "code",
   "execution_count": null,
   "metadata": {},
   "outputs": [],
   "source": [
    "kWThangTruoc = float(input('Nhập chỉ số điện kế tháng trước: '))\n",
    "kWThangNay = float(input('Nhập chỉ số điện kế tháng này: '))\n",
    "sokWTieuThu = kWThangNay - kWThangTruoc\n",
    "if 0 < sokWTieuThu <= 100:\n",
    "    tienDien = sokWTieuThu * 1.418\n",
    "elif sokWTieuThu <= 150:\n",
    "    tienDienVuot = sokWTieuThu - 100\n",
    "    tienDien = (tienDienVuot * 1.622) + (100*1.418)\n",
    "elif sokWTieuThu <= 200:\n",
    "    tienDienVuot = sokWTieuThu -150\n",
    "    tienDien = (tienDienVuot * 2.044) + (100 * 1.418) + (50 * 1.622)\n",
    "elif sokWTieuThu <= 300:\n",
    "    tienDienVuot = sokWTieuThu - 200\n",
    "    tienDien = (tienDienVuot * 2.210) + (100 * 1.418) + (50 * 1.622) + (50 * 2.044)\n",
    "elif sokWTieuThu <= 400:\n",
    "    tienDienVuot = sokWTieuThu - 300\n",
    "    tienDien = (tienDienVuot * 2.361) + (100 * 1.418) + (50 * 1.622) + (50 * 2.044) + (100 * 2.210)\n",
    "else:\n",
    "    tienDienVuot = sokWTieuThu - 400\n",
    "    tienDien = (tienDienVuot * 2.420) + (100 * 1.418) + (50 * 1.622) + (50 * 2.044) + (100 * 2.210) + (100 * 2.316)\n",
    "print('số kW tiêu thụ: ', sokWTieuThu)\n",
    "print('Tiền điện: ', tienDien)"
   ]
  },
  {
   "cell_type": "code",
   "execution_count": null,
   "metadata": {},
   "outputs": [],
   "source": [
    "import math\n",
    "import numpy as np\n",
    "x = float(input('Nhập số x: '))\n",
    "if x > 1:\n",
    "    y = 2 + x**2\n",
    "elif -1 <= x <= 1:\n",
    "    y = abs((math.sin(x))/(x + 2))\n",
    "else:\n",
    "#     ln = np.log\n",
    "     y = (math.log(abs(2*x)))**2"
   ]
  },
  {
   "cell_type": "code",
   "execution_count": null,
   "metadata": {},
   "outputs": [],
   "source": [
    "a1 = float(input('a1: '))\n",
    "b1 = float(input('b1: '))\n",
    "c1 = float(input('c1: '))\n",
    "a2 = float(input('a2: '))\n",
    "b2 = float(input('b2: '))\n",
    "c2 = float(input('c2: '))\n",
    "\n",
    "D = (a1 * b2) - (a2 * b1)\n",
    "Dx = (c1 * b2) - (c2 * b1)\n",
    "Dy = (a1 * c2) - (a2 * c1)\n",
    "if D == 0:\n",
    "    if Dx != 0 or Dy != 0:\n",
    "        print('Hệ phương trình vô nghiệm')\n",
    "    elif Dx == 0 and Dy == 0:\n",
    "        print('Hệ phương trình có vô số nghiệm')\n",
    "else:\n",
    "    x = Dx/D\n",
    "    y = Dy/D\n",
    "    print('x: ',x,'\\t','y: ', y)\n"
   ]
  },
  {
   "cell_type": "code",
   "execution_count": null,
   "metadata": {},
   "outputs": [],
   "source": [
    "a = float(input('Nhập cạnh a: '))\n",
    "b = float(input('Nhập cạnh b: '))\n",
    "c = float(input('Nhập cạnh c: '))\n",
    "if a+b<c or b+c<a or a+c<b:\n",
    "    print('Đây không phải là một tam giác')\n",
    "else:\n",
    "    if a == b == c:\n",
    "        print('đây là tam giác đều')\n",
    "    elif ((a**2 + b**2) == c**2) or ((a**2 + c**2) == b**2) or ((b**2 + c**2) == a**2):\n",
    "        if(a == b) or (b == c) or (c == a):\n",
    "            print('đây là tam giác vuông cân')\n",
    "        else:\n",
    "            print('đây là tam giác vuông')\n",
    "    elif (a == b) or (b == c) or (c == a):\n",
    "        print('Đây là tam giác cân')\n",
    "    elif (a != b) and (a != c) and (b != c):\n",
    "        print('Đây là tam giác thường') \n",
    "import math as mt\n",
    "cosA = (a**2 - b**2 - c**2) / (-2 * b * c)\n",
    "A = mt.degrees(mt.acos(cosA))\n",
    "cosB = (b**2 - a**2 - c**2) / (-2 * a * c)\n",
    "B = mt.degrees(mt.acos(cosB))\n",
    "cosC = (c**2 - a**2 - b**2) / (-2 * a * b)\n",
    "C = mt.degrees(mt.acos(cosC))\n",
    "print( A, '\\t', B, '\\t', C)"
   ]
  }
 ],
 "metadata": {
  "kernelspec": {
   "display_name": "Python 3.10.2 64-bit",
   "language": "python",
   "name": "python3"
  },
  "language_info": {
   "codemirror_mode": {
    "name": "ipython",
    "version": 3
   },
   "file_extension": ".py",
   "mimetype": "text/x-python",
   "name": "python",
   "nbconvert_exporter": "python",
   "pygments_lexer": "ipython3",
   "version": "3.10.2"
  },
  "vscode": {
   "interpreter": {
    "hash": "f2ccb58c476f33ba3e3aee7ac07234ef6b8217ef24ad64d2a7d4fed1a57c1cd2"
   }
  }
 },
 "nbformat": 4,
 "nbformat_minor": 2
}
