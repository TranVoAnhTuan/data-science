{
 "cells": [
  {
   "attachments": {},
   "cell_type": "markdown",
   "metadata": {},
   "source": [
    "# 1"
   ]
  },
  {
   "cell_type": "code",
   "execution_count": 3,
   "metadata": {},
   "outputs": [
    {
     "name": "stdout",
     "output_type": "stream",
     "text": [
      "2\n"
     ]
    }
   ],
   "source": [
    "a = int(input())\n",
    "b = int(input())\n",
    "c = int(input())\n",
    "if (b > a and a > c) or (c > a and a >b):\n",
    "    print(a)\n",
    "elif (a > b and b > c) or (c > b and b > a):\n",
    "    print(b)\n",
    "else:\n",
    "     print(c) "
   ]
  },
  {
   "attachments": {},
   "cell_type": "markdown",
   "metadata": {},
   "source": [
    " # 2"
   ]
  },
  {
   "cell_type": "code",
   "execution_count": 7,
   "metadata": {},
   "outputs": [
    {
     "name": "stdout",
     "output_type": "stream",
     "text": [
      "two\n"
     ]
    }
   ],
   "source": [
    "n = int(input())\n",
    "arr = ['zero', 'one', 'two', 'three', 'four', 'five', 'six', 'seven', 'eight', 'nine']\n",
    "print(arr[n])"
   ]
  },
  {
   "attachments": {},
   "cell_type": "markdown",
   "metadata": {},
   "source": [
    "# 3"
   ]
  },
  {
   "cell_type": "code",
   "execution_count": 10,
   "metadata": {},
   "outputs": [
    {
     "name": "stdout",
     "output_type": "stream",
     "text": [
      "1\t2\t3\t6\n"
     ]
    }
   ],
   "source": [
    "n = int(input())\n",
    "m = int(input())\n",
    "if n >= m:\n",
    "    for i in range(1, m//2+1):\n",
    "        if n % i == 0 and m % i == 0:\n",
    "            print(i,end= '\\t')\n",
    "    if n % m == 0:\n",
    "        print(m)\n",
    "else:\n",
    "    for i in range(1, n//2+1):\n",
    "        if n % i ==0 and m % i == 0:\n",
    "            print(i, end='\\t')\n"
   ]
  },
  {
   "attachments": {},
   "cell_type": "markdown",
   "metadata": {},
   "source": [
    "# 4"
   ]
  },
  {
   "cell_type": "code",
   "execution_count": 12,
   "metadata": {},
   "outputs": [
    {
     "name": "stdout",
     "output_type": "stream",
     "text": [
      "6\n"
     ]
    }
   ],
   "source": [
    "n = int(input())\n",
    "Sum = 0\n",
    "for i in range(1, n//2+1):\n",
    "    if n % i == 0:\n",
    "        Sum += i\n",
    "Sum += n\n",
    "print(Sum)"
   ]
  },
  {
   "attachments": {},
   "cell_type": "markdown",
   "metadata": {},
   "source": [
    "# 5"
   ]
  },
  {
   "cell_type": "code",
   "execution_count": 14,
   "metadata": {},
   "outputs": [
    {
     "name": "stdout",
     "output_type": "stream",
     "text": [
      "1\n"
     ]
    }
   ],
   "source": [
    "n = int(input())\n",
    "Sum = 0\n",
    "if n == 0  or n == 1:\n",
    "    Sum = 0\n",
    "else:\n",
    "    for i in range(2, n+1, 2):\n",
    "        Sum += 1\n",
    "print(Sum)"
   ]
  },
  {
   "attachments": {},
   "cell_type": "markdown",
   "metadata": {},
   "source": [
    " # 6"
   ]
  },
  {
   "cell_type": "code",
   "execution_count": 23,
   "metadata": {},
   "outputs": [
    {
     "name": "stdout",
     "output_type": "stream",
     "text": [
      "7\n"
     ]
    }
   ],
   "source": [
    "from math import sqrt\n",
    "def checkPrime():\n",
    "    arr = [True] * 1000000\n",
    "    arr[0] = False\n",
    "    arr[1] = False\n",
    "    for i in range(2, int(sqrt(1000000))):\n",
    "        if arr[i] == True:\n",
    "            for j in range(i**2,1000000,i):\n",
    "                if arr[j] == True:\n",
    "                    arr[j] = False\n",
    "    return arr\n",
    "n = int(input())\n",
    "a = checkPrime()\n",
    "for i in range(n, 1, -1):\n",
    "    if a[i] == True:\n",
    "        print(i)\n",
    "        break\n"
   ]
  },
  {
   "attachments": {},
   "cell_type": "markdown",
   "metadata": {},
   "source": [
    "# 7"
   ]
  },
  {
   "cell_type": "code",
   "execution_count": 25,
   "metadata": {},
   "outputs": [
    {
     "name": "stdout",
     "output_type": "stream",
     "text": [
      "3\n"
     ]
    }
   ],
   "source": [
    "from math import sqrt\n",
    "def checkPrime():\n",
    "    arr = [True] * 1000000\n",
    "    arr[0] = False\n",
    "    arr[1] = False\n",
    "    for i in range(2, int(sqrt(1000000))):\n",
    "        if arr[i] == True:\n",
    "            for j in range(i**2,1000000,i):\n",
    "                if arr[j] == True:\n",
    "                    arr[j] = False\n",
    "    return arr\n",
    "n = int(input())\n",
    "a = checkPrime()\n",
    "arr = []\n",
    "for i in range(0, n):\n",
    "    arr.append(int(input(f'{i}: ')))\n",
    "Count = 0\n",
    "for i in range(0, n):\n",
    "    if a[arr[i]] == True:\n",
    "        Count += 1\n",
    "print(Count)"
   ]
  },
  {
   "attachments": {},
   "cell_type": "markdown",
   "metadata": {},
   "source": [
    "# 8"
   ]
  },
  {
   "cell_type": "code",
   "execution_count": 47,
   "metadata": {},
   "outputs": [
    {
     "name": "stdout",
     "output_type": "stream",
     "text": [
      "[(2, 3), (1, 4)]\n"
     ]
    }
   ],
   "source": [
    "n = int(input())\n",
    "a = []\n",
    "b = {}\n",
    "s = int(input('tong '))\n",
    "t = []\n",
    "for i in range(0, n):\n",
    "    a.append(int(input(f'{i}: ')))\n",
    "for key, val in enumerate(a):\n",
    "    check = s - val\n",
    "    if check in b:\n",
    "        t.append((check,val))\n",
    "    else:\n",
    "        b[val] = check\n",
    "print(t)"
   ]
  },
  {
   "attachments": {},
   "cell_type": "markdown",
   "metadata": {},
   "source": [
    "# 9"
   ]
  },
  {
   "cell_type": "code",
   "execution_count": 50,
   "metadata": {},
   "outputs": [
    {
     "name": "stdout",
     "output_type": "stream",
     "text": [
      "1 4\n"
     ]
    }
   ],
   "source": [
    "a = []\n",
    "b = []\n",
    "t = []\n",
    "n = int(input())\n",
    "for i in range(0,n):\n",
    "    a.append(int(input(f'{i}: ')))\n",
    "b.append(0)\n",
    "for i in range(n):\n",
    "    b.append(b[i] + a[i])\n",
    "for key, val in enumerate(b):\n",
    "    t.append((val, key))\n",
    "t.sort(key=lambda x: (x[0], x[1]))\n",
    "for i in range(len(t)-1):\n",
    "    if t[i][0] == t[i+1][0]:\n",
    "        print(t[i][1], t[i+1][1]-1)\n",
    "        break"
   ]
  },
  {
   "attachments": {},
   "cell_type": "markdown",
   "metadata": {},
   "source": [
    "# 10"
   ]
  },
  {
   "cell_type": "code",
   "execution_count": 51,
   "metadata": {},
   "outputs": [
    {
     "name": "stdout",
     "output_type": "stream",
     "text": [
      "True\n"
     ]
    }
   ],
   "source": [
    "a = []\n",
    "b = []\n",
    "n = int(input('n:   '))\n",
    "m = int(input('m:   '))\n",
    "for i in range(0,n):\n",
    "    a.append(int(input(f'a{i}: ')))\n",
    "for i in range(0,m):\n",
    "    b.append(int(input(f'b{i}: ')))\n",
    "x = 0\n",
    "y = 0\n",
    "if m > n:\n",
    "    print(False)\n",
    "else:\n",
    "    while x < m:\n",
    "        if a[y] == b[x]:\n",
    "            x += 1\n",
    "            y += 1\n",
    "        else:\n",
    "            y += 1\n",
    "    if y <= n:\n",
    "        print(True)\n",
    "    else:\n",
    "        print(False)\n",
    "\n",
    "\n",
    "\n"
   ]
  },
  {
   "attachments": {},
   "cell_type": "markdown",
   "metadata": {},
   "source": [
    "# 11"
   ]
  },
  {
   "cell_type": "code",
   "execution_count": 15,
   "metadata": {},
   "outputs": [
    {
     "name": "stdout",
     "output_type": "stream",
     "text": [
      "1\n",
      "2\n",
      "3\n",
      "5\n",
      "6765\n"
     ]
    }
   ],
   "source": [
    "def checkFibo():\n",
    "    a = [False] * 1000000\n",
    "    b = []\n",
    "    a[0] = True\n",
    "    a[1] = True\n",
    "    a[2] = True\n",
    "    b.append(1)\n",
    "    b.append(1)\n",
    "    for i in range(2, 30):\n",
    "        b.append(b[i-1] + b[i-2])\n",
    "        a[b[i-1]+b[i-2]] = True\n",
    "    return a\n",
    "arr1 = checkFibo()\n",
    "arr = []\n",
    "n = int(input())\n",
    "for i in range(0,n):\n",
    "    arr.append(int(input(f'{i}: ')))\n",
    "for i in range(0,n):\n",
    "    if arr1[arr[i]]:\n",
    "        print(arr[i])\n"
   ]
  },
  {
   "attachments": {},
   "cell_type": "markdown",
   "metadata": {},
   "source": [
    "# 12"
   ]
  },
  {
   "cell_type": "code",
   "execution_count": 17,
   "metadata": {},
   "outputs": [
    {
     "name": "stdout",
     "output_type": "stream",
     "text": [
      "5\n"
     ]
    }
   ],
   "source": [
    "\n",
    "a = []\n",
    "n = int(input('n:   '))\n",
    "Max = float('-inf')\n",
    "Max2 = float('-inf')\n",
    "for i in range(0,n):\n",
    "    a.append(int(input(f'{i}:   ')))\n",
    "    if a[i] > Max:\n",
    "        Max = a[i]\n",
    "for i in range(0,n):\n",
    "    if a[i] > Max2 and a[i] < Max:\n",
    "        Max2 = a[i]\n",
    "print(Max2)\n",
    "\n"
   ]
  },
  {
   "cell_type": "code",
   "execution_count": null,
   "metadata": {},
   "outputs": [],
   "source": []
  }
 ],
 "metadata": {
  "kernelspec": {
   "display_name": "Python 3",
   "language": "python",
   "name": "python3"
  },
  "language_info": {
   "codemirror_mode": {
    "name": "ipython",
    "version": 3
   },
   "file_extension": ".py",
   "mimetype": "text/x-python",
   "name": "python",
   "nbconvert_exporter": "python",
   "pygments_lexer": "ipython3",
   "version": "3.10.6"
  },
  "orig_nbformat": 4,
  "vscode": {
   "interpreter": {
    "hash": "916dbcbb3f70747c44a77c7bcd40155683ae19c65e1c03b4aa3499c5328201f1"
   }
  }
 },
 "nbformat": 4,
 "nbformat_minor": 2
}
