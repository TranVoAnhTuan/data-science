{
 "cells": [
  {
   "attachments": {},
   "cell_type": "markdown",
   "metadata": {},
   "source": [
    "# 1"
   ]
  },
  {
   "cell_type": "code",
   "execution_count": null,
   "metadata": {},
   "outputs": [],
   "source": []
  },
  {
   "attachments": {},
   "cell_type": "markdown",
   "metadata": {},
   "source": [
    "# 5"
   ]
  },
  {
   "cell_type": "code",
   "execution_count": 17,
   "metadata": {},
   "outputs": [
    {
     "name": "stdout",
     "output_type": "stream",
     "text": [
      "4\n"
     ]
    }
   ],
   "source": [
    "def solve(arr, l, r, x):\n",
    "    if r < l:\n",
    "         return 0\n",
    "    if r == l:\n",
    "        if arr[r] == x:\n",
    "          return 1\n",
    "        else:\n",
    "            return 0\n",
    "    local = (r + l) // 2\n",
    "    if arr[local] == x:\n",
    "        return 1 + solve(arr, l, local-1, x) + solve(arr, local+1, r, x)\n",
    "    elif arr[local] < x:\n",
    "         return solve(arr, local + 1, r)\n",
    "    else:\n",
    "         return solve(arr, l, local - 1, x)\n",
    "arr = [3,4,4,4,4,5,6]\n",
    "print(solve(arr, 0, len(arr)-1, 4))"
   ]
  },
  {
   "attachments": {},
   "cell_type": "markdown",
   "metadata": {},
   "source": [
    "# 6"
   ]
  },
  {
   "cell_type": "code",
   "execution_count": 2,
   "metadata": {},
   "outputs": [
    {
     "name": "stdout",
     "output_type": "stream",
     "text": [
      "7\n"
     ]
    }
   ],
   "source": [
    "def solve(arr,l,r,x):\n",
    "    mid = (l+r)//2\n",
    "    if l > r:\n",
    "        return -1\n",
    "    if arr[mid] >= x and (mid == 0 or arr[mid-1] < x):\n",
    "        return arr[mid]\n",
    "    elif arr[mid] < x:\n",
    "        return solve(arr,mid+1, r ,x)\n",
    "    else:\n",
    "        return solve(arr, l, mid-1, x)\n",
    "arr = [1,2,3,4,5,7,8]\n",
    "print(solve(arr,0,len(arr)-1,6))"
   ]
  },
  {
   "attachments": {},
   "cell_type": "markdown",
   "metadata": {},
   "source": [
    "# 7"
   ]
  },
  {
   "cell_type": "code",
   "execution_count": 9,
   "metadata": {},
   "outputs": [
    {
     "name": "stdout",
     "output_type": "stream",
     "text": [
      "5\n",
      "8\n",
      "13\n",
      "21\n"
     ]
    }
   ],
   "source": [
    "def solve(arr):\n",
    "    a = [0,1]\n",
    "    i = 0\n",
    "    j = 1\n",
    "    while i < len(arr):\n",
    "        if arr[i] == a[j]:\n",
    "            print(arr[i])\n",
    "            i += 1\n",
    "        elif arr[i] > a[j]:\n",
    "            a.append(a[j] + a[j-1])\n",
    "            j += 1\n",
    "        else:\n",
    "            i += 1\n",
    "arr = [4,5,7,8,13,21,22]\n",
    "solve(arr)\n",
    "        "
   ]
  },
  {
   "cell_type": "code",
   "execution_count": null,
   "metadata": {},
   "outputs": [],
   "source": []
  }
 ],
 "metadata": {
  "kernelspec": {
   "display_name": "Python 3",
   "language": "python",
   "name": "python3"
  },
  "language_info": {
   "codemirror_mode": {
    "name": "ipython",
    "version": 3
   },
   "file_extension": ".py",
   "mimetype": "text/x-python",
   "name": "python",
   "nbconvert_exporter": "python",
   "pygments_lexer": "ipython3",
   "version": "3.10.6"
  },
  "orig_nbformat": 4
 },
 "nbformat": 4,
 "nbformat_minor": 2
}
