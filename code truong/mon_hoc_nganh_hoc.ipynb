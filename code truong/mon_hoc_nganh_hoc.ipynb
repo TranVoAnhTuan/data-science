{
 "cells": [
  {
   "cell_type": "code",
   "execution_count": 1,
   "metadata": {},
   "outputs": [],
   "source": [
    "IT = set()\n",
    "DS = set()\n",
    "dev = set()\n",
    "soMonIT = int(input('số môn học ngành công nghệ thông tin: '))\n",
    "for i in range(soMonIT):\n",
    "    IT.add(input('môn học ngành công nghệ thông tin: '))\n",
    "soMonDS = int(input('số môn học ngành khoa học dữ liệu: '))\n",
    "for i in range(soMonDS):\n",
    "    DS.add(input('môn học ngành khoa học dữ liệu: '))\n",
    "soMonDev = int(input('số môn học ngành kỹ thuật phần mềm: '))\n",
    "for i in range(soMonDev):\n",
    "    dev.add(input('môn học ngành kỹ thuật phần mềm'))\n",
    "\n"
   ]
  },
  {
   "cell_type": "code",
   "execution_count": 2,
   "metadata": {},
   "outputs": [
    {
     "data": {
      "text/plain": [
       "{'dstt', 'gt'}"
      ]
     },
     "execution_count": 2,
     "metadata": {},
     "output_type": "execute_result"
    }
   ],
   "source": [
    "IT&DS&dev"
   ]
  },
  {
   "cell_type": "code",
   "execution_count": 3,
   "metadata": {},
   "outputs": [
    {
     "data": {
      "text/plain": [
       "{'c++', 'lap trinh', 'python'}"
      ]
     },
     "execution_count": 3,
     "metadata": {},
     "output_type": "execute_result"
    }
   ],
   "source": [
    "((IT - DS)|(DS -IT))|((IT - dev)|(dev - IT))|((DS - dev)|(dev - DS))\n"
   ]
  },
  {
   "cell_type": "code",
   "execution_count": 5,
   "metadata": {},
   "outputs": [
    {
     "data": {
      "text/plain": [
       "{'python'}"
      ]
     },
     "execution_count": 5,
     "metadata": {},
     "output_type": "execute_result"
    }
   ],
   "source": [
    "DS - dev"
   ]
  }
 ],
 "metadata": {
  "kernelspec": {
   "display_name": "Python 3.10.2 64-bit",
   "language": "python",
   "name": "python3"
  },
  "language_info": {
   "codemirror_mode": {
    "name": "ipython",
    "version": 3
   },
   "file_extension": ".py",
   "mimetype": "text/x-python",
   "name": "python",
   "nbconvert_exporter": "python",
   "pygments_lexer": "ipython3",
   "version": "3.10.2"
  },
  "orig_nbformat": 4,
  "vscode": {
   "interpreter": {
    "hash": "f2ccb58c476f33ba3e3aee7ac07234ef6b8217ef24ad64d2a7d4fed1a57c1cd2"
   }
  }
 },
 "nbformat": 4,
 "nbformat_minor": 2
}
